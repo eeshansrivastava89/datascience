{
 "cells": [
  {
   "cell_type": "markdown",
   "id": "3663dba0",
   "metadata": {},
   "source": [
    "# Experimentation Tutorial"
   ]
  },
  {
   "cell_type": "markdown",
   "id": "d42a83c2",
   "metadata": {},
   "source": [
    "### ✅ Step 1: Get a Public Experiment Dataset of Sufficient Size\n",
    "\n",
    "Let’s use the “Cookie Cats” A/B testing dataset, which simulates a real-world mobile game experiment. It includes test and control groups and relevant KPIs like retention and spending behavior.\n",
    "\n",
    "You can download it from Kaggle here:\n",
    "https://www.kaggle.com/datasets/marwandiab/cookie-catsdataset"
   ]
  },
  {
   "cell_type": "markdown",
   "id": "32912743",
   "metadata": {},
   "source": [
    "#### Imports"
   ]
  },
  {
   "cell_type": "code",
   "execution_count": 7,
   "id": "66775645",
   "metadata": {},
   "outputs": [],
   "source": [
    "import pandas as pd\n",
    "import matplotlib.pyplot as plt\n",
    "import seaborn as sns"
   ]
  },
  {
   "cell_type": "code",
   "execution_count": 3,
   "id": "5df5aead",
   "metadata": {},
   "outputs": [
    {
     "data": {
      "application/vnd.microsoft.datawrangler.viewer.v0+json": {
       "columns": [
        {
         "name": "index",
         "rawType": "int64",
         "type": "integer"
        },
        {
         "name": "userid",
         "rawType": "int64",
         "type": "integer"
        },
        {
         "name": "version",
         "rawType": "object",
         "type": "string"
        },
        {
         "name": "sum_gamerounds",
         "rawType": "int64",
         "type": "integer"
        },
        {
         "name": "retention_1",
         "rawType": "bool",
         "type": "boolean"
        },
        {
         "name": "retention_7",
         "rawType": "bool",
         "type": "boolean"
        }
       ],
       "ref": "8ce342d1-b9ef-432a-be44-a53f6d1a8300",
       "rows": [
        [
         "0",
         "116",
         "gate_30",
         "3",
         "False",
         "False"
        ],
        [
         "1",
         "337",
         "gate_30",
         "38",
         "True",
         "False"
        ],
        [
         "2",
         "377",
         "gate_40",
         "165",
         "True",
         "False"
        ],
        [
         "3",
         "483",
         "gate_40",
         "1",
         "False",
         "False"
        ],
        [
         "4",
         "488",
         "gate_40",
         "179",
         "True",
         "True"
        ],
        [
         "5",
         "540",
         "gate_40",
         "187",
         "True",
         "True"
        ],
        [
         "6",
         "1066",
         "gate_30",
         "0",
         "False",
         "False"
        ],
        [
         "7",
         "1444",
         "gate_40",
         "2",
         "False",
         "False"
        ],
        [
         "8",
         "1574",
         "gate_40",
         "108",
         "True",
         "True"
        ],
        [
         "9",
         "1587",
         "gate_40",
         "153",
         "True",
         "False"
        ],
        [
         "10",
         "1842",
         "gate_40",
         "3",
         "False",
         "True"
        ],
        [
         "11",
         "2101",
         "gate_30",
         "0",
         "False",
         "False"
        ],
        [
         "12",
         "2132",
         "gate_40",
         "30",
         "True",
         "False"
        ],
        [
         "13",
         "2179",
         "gate_30",
         "39",
         "True",
         "False"
        ],
        [
         "14",
         "2218",
         "gate_30",
         "305",
         "True",
         "True"
        ],
        [
         "15",
         "2382",
         "gate_30",
         "73",
         "True",
         "False"
        ],
        [
         "16",
         "2392",
         "gate_30",
         "14",
         "True",
         "False"
        ],
        [
         "17",
         "2451",
         "gate_30",
         "204",
         "True",
         "True"
        ],
        [
         "18",
         "2482",
         "gate_30",
         "108",
         "True",
         "True"
        ],
        [
         "19",
         "2502",
         "gate_40",
         "1",
         "False",
         "False"
        ],
        [
         "20",
         "2530",
         "gate_40",
         "9",
         "True",
         "False"
        ],
        [
         "21",
         "2534",
         "gate_30",
         "5",
         "True",
         "False"
        ],
        [
         "22",
         "2695",
         "gate_40",
         "45",
         "True",
         "False"
        ],
        [
         "23",
         "2729",
         "gate_30",
         "105",
         "False",
         "True"
        ],
        [
         "24",
         "2829",
         "gate_30",
         "4",
         "False",
         "False"
        ],
        [
         "25",
         "2963",
         "gate_30",
         "3",
         "False",
         "False"
        ],
        [
         "26",
         "3095",
         "gate_30",
         "0",
         "False",
         "False"
        ],
        [
         "27",
         "3132",
         "gate_40",
         "80",
         "True",
         "True"
        ],
        [
         "28",
         "3186",
         "gate_40",
         "4",
         "False",
         "False"
        ],
        [
         "29",
         "3199",
         "gate_30",
         "5",
         "False",
         "False"
        ],
        [
         "30",
         "3204",
         "gate_40",
         "53",
         "True",
         "True"
        ],
        [
         "31",
         "3413",
         "gate_30",
         "37",
         "True",
         "False"
        ],
        [
         "32",
         "3690",
         "gate_30",
         "13",
         "True",
         "False"
        ],
        [
         "33",
         "3696",
         "gate_30",
         "50",
         "False",
         "False"
        ],
        [
         "34",
         "3993",
         "gate_40",
         "202",
         "True",
         "True"
        ],
        [
         "35",
         "4076",
         "gate_40",
         "0",
         "False",
         "False"
        ],
        [
         "36",
         "4162",
         "gate_30",
         "23",
         "False",
         "False"
        ],
        [
         "37",
         "4176",
         "gate_30",
         "0",
         "False",
         "False"
        ],
        [
         "38",
         "4283",
         "gate_30",
         "103",
         "False",
         "False"
        ],
        [
         "39",
         "4594",
         "gate_30",
         "27",
         "False",
         "False"
        ],
        [
         "40",
         "4653",
         "gate_40",
         "15",
         "False",
         "False"
        ],
        [
         "41",
         "4881",
         "gate_30",
         "0",
         "False",
         "False"
        ],
        [
         "42",
         "4902",
         "gate_40",
         "1",
         "False",
         "False"
        ],
        [
         "43",
         "4916",
         "gate_40",
         "49",
         "True",
         "False"
        ],
        [
         "44",
         "4918",
         "gate_30",
         "7",
         "False",
         "False"
        ],
        [
         "45",
         "4929",
         "gate_30",
         "386",
         "True",
         "True"
        ],
        [
         "46",
         "4945",
         "gate_40",
         "25",
         "True",
         "False"
        ],
        [
         "47",
         "5066",
         "gate_30",
         "1",
         "False",
         "False"
        ],
        [
         "48",
         "5215",
         "gate_30",
         "13",
         "True",
         "False"
        ],
        [
         "49",
         "5286",
         "gate_30",
         "12",
         "True",
         "False"
        ]
       ],
       "shape": {
        "columns": 5,
        "rows": 90189
       }
      },
      "text/html": [
       "<div>\n",
       "<style scoped>\n",
       "    .dataframe tbody tr th:only-of-type {\n",
       "        vertical-align: middle;\n",
       "    }\n",
       "\n",
       "    .dataframe tbody tr th {\n",
       "        vertical-align: top;\n",
       "    }\n",
       "\n",
       "    .dataframe thead th {\n",
       "        text-align: right;\n",
       "    }\n",
       "</style>\n",
       "<table border=\"1\" class=\"dataframe\">\n",
       "  <thead>\n",
       "    <tr style=\"text-align: right;\">\n",
       "      <th></th>\n",
       "      <th>userid</th>\n",
       "      <th>version</th>\n",
       "      <th>sum_gamerounds</th>\n",
       "      <th>retention_1</th>\n",
       "      <th>retention_7</th>\n",
       "    </tr>\n",
       "  </thead>\n",
       "  <tbody>\n",
       "    <tr>\n",
       "      <th>0</th>\n",
       "      <td>116</td>\n",
       "      <td>gate_30</td>\n",
       "      <td>3</td>\n",
       "      <td>False</td>\n",
       "      <td>False</td>\n",
       "    </tr>\n",
       "    <tr>\n",
       "      <th>1</th>\n",
       "      <td>337</td>\n",
       "      <td>gate_30</td>\n",
       "      <td>38</td>\n",
       "      <td>True</td>\n",
       "      <td>False</td>\n",
       "    </tr>\n",
       "    <tr>\n",
       "      <th>2</th>\n",
       "      <td>377</td>\n",
       "      <td>gate_40</td>\n",
       "      <td>165</td>\n",
       "      <td>True</td>\n",
       "      <td>False</td>\n",
       "    </tr>\n",
       "    <tr>\n",
       "      <th>3</th>\n",
       "      <td>483</td>\n",
       "      <td>gate_40</td>\n",
       "      <td>1</td>\n",
       "      <td>False</td>\n",
       "      <td>False</td>\n",
       "    </tr>\n",
       "    <tr>\n",
       "      <th>4</th>\n",
       "      <td>488</td>\n",
       "      <td>gate_40</td>\n",
       "      <td>179</td>\n",
       "      <td>True</td>\n",
       "      <td>True</td>\n",
       "    </tr>\n",
       "    <tr>\n",
       "      <th>...</th>\n",
       "      <td>...</td>\n",
       "      <td>...</td>\n",
       "      <td>...</td>\n",
       "      <td>...</td>\n",
       "      <td>...</td>\n",
       "    </tr>\n",
       "    <tr>\n",
       "      <th>90184</th>\n",
       "      <td>9999441</td>\n",
       "      <td>gate_40</td>\n",
       "      <td>97</td>\n",
       "      <td>True</td>\n",
       "      <td>False</td>\n",
       "    </tr>\n",
       "    <tr>\n",
       "      <th>90185</th>\n",
       "      <td>9999479</td>\n",
       "      <td>gate_40</td>\n",
       "      <td>30</td>\n",
       "      <td>False</td>\n",
       "      <td>False</td>\n",
       "    </tr>\n",
       "    <tr>\n",
       "      <th>90186</th>\n",
       "      <td>9999710</td>\n",
       "      <td>gate_30</td>\n",
       "      <td>28</td>\n",
       "      <td>True</td>\n",
       "      <td>False</td>\n",
       "    </tr>\n",
       "    <tr>\n",
       "      <th>90187</th>\n",
       "      <td>9999768</td>\n",
       "      <td>gate_40</td>\n",
       "      <td>51</td>\n",
       "      <td>True</td>\n",
       "      <td>False</td>\n",
       "    </tr>\n",
       "    <tr>\n",
       "      <th>90188</th>\n",
       "      <td>9999861</td>\n",
       "      <td>gate_40</td>\n",
       "      <td>16</td>\n",
       "      <td>False</td>\n",
       "      <td>False</td>\n",
       "    </tr>\n",
       "  </tbody>\n",
       "</table>\n",
       "<p>90189 rows × 5 columns</p>\n",
       "</div>"
      ],
      "text/plain": [
       "        userid  version  sum_gamerounds  retention_1  retention_7\n",
       "0          116  gate_30               3        False        False\n",
       "1          337  gate_30              38         True        False\n",
       "2          377  gate_40             165         True        False\n",
       "3          483  gate_40               1        False        False\n",
       "4          488  gate_40             179         True         True\n",
       "...        ...      ...             ...          ...          ...\n",
       "90184  9999441  gate_40              97         True        False\n",
       "90185  9999479  gate_40              30        False        False\n",
       "90186  9999710  gate_30              28         True        False\n",
       "90187  9999768  gate_40              51         True        False\n",
       "90188  9999861  gate_40              16        False        False\n",
       "\n",
       "[90189 rows x 5 columns]"
      ]
     },
     "metadata": {},
     "output_type": "display_data"
    }
   ],
   "source": [
    "# load the CSV file\n",
    "df = pd.read_csv('cookie_cats.csv')\n",
    "display(df)"
   ]
  },
  {
   "cell_type": "code",
   "execution_count": 4,
   "id": "b4cbeaa2",
   "metadata": {},
   "outputs": [
    {
     "name": "stdout",
     "output_type": "stream",
     "text": [
      "<class 'pandas.core.frame.DataFrame'>\n",
      "RangeIndex: 90189 entries, 0 to 90188\n",
      "Data columns (total 5 columns):\n",
      " #   Column          Non-Null Count  Dtype \n",
      "---  ------          --------------  ----- \n",
      " 0   userid          90189 non-null  int64 \n",
      " 1   version         90189 non-null  object\n",
      " 2   sum_gamerounds  90189 non-null  int64 \n",
      " 3   retention_1     90189 non-null  bool  \n",
      " 4   retention_7     90189 non-null  bool  \n",
      "dtypes: bool(2), int64(2), object(1)\n",
      "memory usage: 2.2+ MB\n"
     ]
    }
   ],
   "source": [
    "df.info()"
   ]
  },
  {
   "cell_type": "markdown",
   "id": "accab31e",
   "metadata": {},
   "source": [
    "### ✅ Step 2: Explore the Data to Find Any Existing Relationships\n",
    "\n",
    "We’ll:\n",
    "* Check group sizes\n",
    "* Visualize distributions\n",
    "* Look at retention and game rounds by group"
   ]
  },
  {
   "cell_type": "code",
   "execution_count": 6,
   "id": "e64617fe",
   "metadata": {},
   "outputs": [
    {
     "data": {
      "application/vnd.microsoft.datawrangler.viewer.v0+json": {
       "columns": [
        {
         "name": "version",
         "rawType": "object",
         "type": "string"
        },
        {
         "name": "count",
         "rawType": "int64",
         "type": "integer"
        }
       ],
       "ref": "cbc90900-e6ea-4aea-b0d0-b815a905644f",
       "rows": [
        [
         "gate_40",
         "45489"
        ],
        [
         "gate_30",
         "44700"
        ]
       ],
       "shape": {
        "columns": 1,
        "rows": 2
       }
      },
      "text/plain": [
       "version\n",
       "gate_40    45489\n",
       "gate_30    44700\n",
       "Name: count, dtype: int64"
      ]
     },
     "execution_count": 6,
     "metadata": {},
     "output_type": "execute_result"
    }
   ],
   "source": [
    "# group size balances\n",
    "df['version'].value_counts()"
   ]
  },
  {
   "cell_type": "code",
   "execution_count": 12,
   "id": "9674859d",
   "metadata": {},
   "outputs": [
    {
     "name": "stderr",
     "output_type": "stream",
     "text": [
      "/var/folders/kj/43wdr9t108505m0kvphrlw2r0000gn/T/ipykernel_86441/1618388107.py:5: UserWarning: No artists with labels found to put in legend.  Note that artists whose label start with an underscore are ignored when legend() is called with no argument.\n",
      "  plt.legend(title='Version')\n"
     ]
    },
    {
     "data": {
      "image/png": "[encoded data removed]",
      "text/plain": [
       "<Figure size 640x480 with 1 Axes>"
      ]
     },
     "metadata": {},
     "output_type": "display_data"
    }
   ],
   "source": [
    "sns.histplot(data=df, x='sum_gamerounds', hue='version', kde=True, stat='density', common_norm=False, bins=10)\n",
    "plt.title('Distribution of Gamerounds by Version')\n",
    "plt.xlabel('Sum of Gamerounds')\n",
    "plt.ylabel('Frequency')\n",
    "plt.legend(title='Version')\n",
    "plt.show()"
   ]
  },
  {
   "cell_type": "code",
   "execution_count": 16,
   "id": "439025fe",
   "metadata": {},
   "outputs": [
    {
     "name": "stdout",
     "output_type": "stream",
     "text": [
      "185.43631284312502\n"
     ]
    }
   ],
   "source": [
    "print(df['sum_gamerounds'].skew())"
   ]
  },
  {
   "cell_type": "code",
   "execution_count": 17,
   "id": "d0dd4cee",
   "metadata": {},
   "outputs": [
    {
     "data": {
      "image/png": "[encoded data removed]",
      "text/plain": [
       "<Figure size 640x480 with 1 Axes>"
      ]
     },
     "metadata": {},
     "output_type": "display_data"
    }
   ],
   "source": [
    "import numpy as np\n",
    "\n",
    "df['log_gamerounds'] = np.log1p(df['sum_gamerounds'])  # log(1 + x) to avoid log(0)\n",
    "\n",
    "sns.histplot(data=df, x='log_gamerounds', hue='version', kde=True)\n",
    "plt.title('Log-Transformed Distribution of Game Rounds')\n",
    "plt.show()"
   ]
  },
  {
   "cell_type": "code",
   "execution_count": 13,
   "id": "a74f3e8b",
   "metadata": {},
   "outputs": [
    {
     "data": {
      "image/png": "[encoded data removed]",
      "text/plain": [
       "<Figure size 640x480 with 1 Axes>"
      ]
     },
     "metadata": {},
     "output_type": "display_data"
    }
   ],
   "source": [
    "# Bar plot for 1-day retention\n",
    "sns.barplot(data=df, x='version', y='retention_1')\n",
    "plt.title('1-Day Retention by Version')\n",
    "plt.show()"
   ]
  },
  {
   "cell_type": "code",
   "execution_count": 14,
   "id": "9189897f",
   "metadata": {},
   "outputs": [
    {
     "data": {
      "image/png": "[encoded data removed]",
      "text/plain": [
       "<Figure size 640x480 with 1 Axes>"
      ]
     },
     "metadata": {},
     "output_type": "display_data"
    }
   ],
   "source": [
    "sns.barplot(data=df, x='version', y='retention_7')\n",
    "plt.title('7-Day Retention by Version')\n",
    "plt.show()"
   ]
  },
  {
   "cell_type": "code",
   "execution_count": 15,
   "id": "444a8135",
   "metadata": {},
   "outputs": [
    {
     "name": "stdout",
     "output_type": "stream",
     "text": [
      "                  userid  sum_gamerounds  retention_1  retention_7\n",
      "userid          1.000000        0.001847    -0.002596    -0.002636\n",
      "sum_gamerounds  0.001847        1.000000     0.197603     0.279288\n",
      "retention_1    -0.002596        0.197603     1.000000     0.327401\n",
      "retention_7    -0.002636        0.279288     0.327401     1.000000\n"
     ]
    }
   ],
   "source": [
    "print(df.corr(numeric_only=True))"
   ]
  }
 ],
 "metadata": {
  "kernelspec": {
   "display_name": "base",
   "language": "python",
   "name": "python3"
  },
  "language_info": {
   "codemirror_mode": {
    "name": "ipython",
    "version": 3
   },
   "file_extension": ".py",
   "mimetype": "text/x-python",
   "name": "python",
   "nbconvert_exporter": "python",
   "pygments_lexer": "ipython3",
   "version": "3.12.9"
  }
 },
 "nbformat": 4,
 "nbformat_minor": 5
}
