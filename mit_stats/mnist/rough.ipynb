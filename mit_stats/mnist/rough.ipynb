{
 "cells": [
  {
   "cell_type": "code",
   "execution_count": 1,
   "metadata": {},
   "outputs": [],
   "source": [
    "import torch"
   ]
  },
  {
   "cell_type": "code",
   "execution_count": 2,
   "metadata": {},
   "outputs": [
    {
     "name": "stdout",
     "output_type": "stream",
     "text": [
      "tensor([[-1.2361,  1.4032,  0.3739, -0.2079, -0.7522],\n",
      "        [ 0.8709, -1.9554,  1.8369, -0.7598,  0.1337],\n",
      "        [ 0.3179,  0.1379, -0.8552, -0.0577, -1.0689],\n",
      "        [ 0.1177, -0.8105,  1.2155, -0.7730, -0.5495],\n",
      "        [ 1.9775, -0.0377,  0.5017,  1.7405, -0.6458]])\n",
      "tensor([[ 1.5317,  1.0740,  0.0590, -0.9462,  0.4884],\n",
      "        [-0.3518, -1.3349, -1.8504,  3.4326,  0.4598],\n",
      "        [ 1.0741, -0.1704,  0.2249, -1.3057,  0.1200],\n",
      "        [ 0.6461,  0.7064, -0.4347,  0.1357, -0.5036],\n",
      "        [-0.0154,  1.1200,  0.9328, -0.0529,  2.1521]])\n"
     ]
    }
   ],
   "source": [
    "a = torch.randn(5,5)\n",
    "b = torch.randn(5,5)\n",
    "print(a)\n",
    "print(b)"
   ]
  },
  {
   "cell_type": "code",
   "execution_count": 3,
   "metadata": {},
   "outputs": [
    {
     "name": "stdout",
     "output_type": "stream",
     "text": [
      "tensor(-0.8552)\n",
      "-0.8551638722419739\n"
     ]
    }
   ],
   "source": [
    "another_tensor = a[2,2]\n",
    "print(another_tensor)\n",
    "\n",
    "python_value = a[2,2].item()\n",
    "print(python_value)"
   ]
  },
  {
   "cell_type": "code",
   "execution_count": 8,
   "metadata": {},
   "outputs": [
    {
     "name": "stdout",
     "output_type": "stream",
     "text": [
      "tensor([[ -2.1083,  -4.2537,  -3.1966,   5.5096,  -1.4277],\n",
      "        [  3.5020,   2.8457,   4.5378, -10.0448,   0.4170],\n",
      "        [ -0.5010,  -0.9348,  -1.4008,   1.3379,  -2.1552],\n",
      "        [  1.2801,  -0.1602,   1.6034,  -4.5565,  -0.9627],\n",
      "        [  4.7155,   2.5949,  -1.0599,  -2.3850,  -1.2575]])\n"
     ]
    }
   ],
   "source": [
    "c = a.mm(b)\n",
    "print(c)"
   ]
  },
  {
   "cell_type": "code",
   "execution_count": 12,
   "metadata": {},
   "outputs": [
    {
     "data": {
      "text/plain": [
       "'get_autocast_gpu_dtype'"
      ]
     },
     "execution_count": 12,
     "metadata": {},
     "output_type": "execute_result"
    }
   ],
   "source": [
    "torch.get_autocast_gpu_dtype.__name__"
   ]
  }
 ],
 "metadata": {
  "kernelspec": {
   "display_name": "env1",
   "language": "python",
   "name": "python3"
  },
  "language_info": {
   "codemirror_mode": {
    "name": "ipython",
    "version": 3
   },
   "file_extension": ".py",
   "mimetype": "text/x-python",
   "name": "python",
   "nbconvert_exporter": "python",
   "pygments_lexer": "ipython3",
   "version": "3.13.2"
  }
 },
 "nbformat": 4,
 "nbformat_minor": 2
}
