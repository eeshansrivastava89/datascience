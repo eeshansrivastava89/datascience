{
 "cells": [
  {
   "cell_type": "code",
   "execution_count": 2,
   "id": "2e9eb27e",
   "metadata": {},
   "outputs": [],
   "source": [
    "import pandas as pd\n",
    "import numpy as np\n",
    "import matplotlib.pyplot as plt"
   ]
  },
  {
   "cell_type": "code",
   "execution_count": 3,
   "id": "b55a76c2",
   "metadata": {},
   "outputs": [
    {
     "data": {
      "application/vnd.microsoft.datawrangler.viewer.v0+json": {
       "columns": [
        {
         "name": "index",
         "rawType": "int64",
         "type": "integer"
        },
        {
         "name": "seconds",
         "rawType": "float64",
         "type": "float"
        },
        {
         "name": "count",
         "rawType": "float64",
         "type": "float"
        }
       ],
       "ref": "a04b0db4-49a6-4a56-bd56-fdad2f0fed12",
       "rows": [
        [
         "0",
         "116.0",
         "0.0"
        ],
        [
         "1",
         "112.0",
         "0.0"
        ],
        [
         "2",
         "160.0",
         "0.0"
        ],
        [
         "3",
         "51.5",
         "0.0"
        ],
        [
         "4",
         "102.0",
         "1.0"
        ],
        [
         "5",
         "77.4",
         "0.0"
        ],
        [
         "6",
         "14.5",
         "0.0"
        ],
        [
         "7",
         "1070.0",
         "3.0"
        ],
        [
         "8",
         "99.1",
         "1.0"
        ],
        [
         "9",
         "49.6",
         "0.0"
        ],
        [
         "10",
         "50.8",
         "0.0"
        ],
        [
         "11",
         "77.2",
         "0.0"
        ],
        [
         "12",
         "114.0",
         "0.0"
        ],
        [
         "13",
         "165.0",
         "0.0"
        ],
        [
         "14",
         "106.0",
         "0.0"
        ],
        [
         "15",
         "52.9",
         "0.0"
        ],
        [
         "16",
         "104.0",
         "2.0"
        ],
        [
         "17",
         "51.0",
         "2.0"
        ],
        [
         "18",
         "51.4",
         "0.0"
        ],
        [
         "19",
         "316.0",
         "2.0"
        ],
        [
         "20",
         "687.0",
         "4.0"
        ],
        [
         "21",
         "101.0",
         "0.0"
        ],
        [
         "22",
         "99.7",
         "0.0"
        ],
        [
         "23",
         "49.2",
         "0.0"
        ],
        [
         "24",
         "49.2",
         "1.0"
        ],
        [
         "25",
         "104.0",
         "0.0"
        ],
        [
         "26",
         "53.5",
         "0.0"
        ],
        [
         "27",
         "124.0",
         "0.0"
        ],
        [
         "28",
         "168.0",
         "0.0"
        ],
        [
         "29",
         "109.0",
         "0.0"
        ],
        [
         "30",
         "107.0",
         "1.0"
        ],
        [
         "31",
         "103.0",
         "0.0"
        ],
        [
         "32",
         "52.1",
         "0.0"
        ],
        [
         "33",
         "104.0",
         "1.0"
        ],
        [
         "34",
         "656.0",
         "5.0"
        ],
        [
         "35",
         "111.0",
         "1.0"
        ],
        [
         "36",
         "417.0",
         "2.0"
        ],
        [
         "37",
         "149.0",
         "1.0"
        ],
        [
         "38",
         "56.5",
         "1.0"
        ],
        [
         "39",
         "12.5",
         "0.0"
        ],
        [
         "40",
         "101.0",
         "1.0"
        ],
        [
         "41",
         "107.0",
         "0.0"
        ],
        [
         "42",
         "113.0",
         "1.0"
        ],
        [
         "43",
         "80.8",
         "0.0"
        ],
        [
         "44",
         "110.0",
         "0.0"
        ],
        [
         "45",
         "109.0",
         "0.0"
        ],
        [
         "46",
         "105.0",
         "0.0"
        ],
        [
         "47",
         "104.0",
         "1.0"
        ],
        [
         "48",
         "107.0",
         "0.0"
        ],
        [
         "49",
         "53.3",
         "0.0"
        ]
       ],
       "shape": {
        "columns": 2,
        "rows": 100
       }
      },
      "text/html": [
       "<div>\n",
       "<style scoped>\n",
       "    .dataframe tbody tr th:only-of-type {\n",
       "        vertical-align: middle;\n",
       "    }\n",
       "\n",
       "    .dataframe tbody tr th {\n",
       "        vertical-align: top;\n",
       "    }\n",
       "\n",
       "    .dataframe thead th {\n",
       "        text-align: right;\n",
       "    }\n",
       "</style>\n",
       "<table border=\"1\" class=\"dataframe\">\n",
       "  <thead>\n",
       "    <tr style=\"text-align: right;\">\n",
       "      <th></th>\n",
       "      <th>seconds</th>\n",
       "      <th>count</th>\n",
       "    </tr>\n",
       "  </thead>\n",
       "  <tbody>\n",
       "    <tr>\n",
       "      <th>0</th>\n",
       "      <td>116.0</td>\n",
       "      <td>0.0</td>\n",
       "    </tr>\n",
       "    <tr>\n",
       "      <th>1</th>\n",
       "      <td>112.0</td>\n",
       "      <td>0.0</td>\n",
       "    </tr>\n",
       "    <tr>\n",
       "      <th>2</th>\n",
       "      <td>160.0</td>\n",
       "      <td>0.0</td>\n",
       "    </tr>\n",
       "    <tr>\n",
       "      <th>3</th>\n",
       "      <td>51.5</td>\n",
       "      <td>0.0</td>\n",
       "    </tr>\n",
       "    <tr>\n",
       "      <th>4</th>\n",
       "      <td>102.0</td>\n",
       "      <td>1.0</td>\n",
       "    </tr>\n",
       "    <tr>\n",
       "      <th>...</th>\n",
       "      <td>...</td>\n",
       "      <td>...</td>\n",
       "    </tr>\n",
       "    <tr>\n",
       "      <th>95</th>\n",
       "      <td>38.7</td>\n",
       "      <td>1.0</td>\n",
       "    </tr>\n",
       "    <tr>\n",
       "      <th>96</th>\n",
       "      <td>41.8</td>\n",
       "      <td>0.0</td>\n",
       "    </tr>\n",
       "    <tr>\n",
       "      <th>97</th>\n",
       "      <td>81.7</td>\n",
       "      <td>0.0</td>\n",
       "    </tr>\n",
       "    <tr>\n",
       "      <th>98</th>\n",
       "      <td>88.3</td>\n",
       "      <td>0.0</td>\n",
       "    </tr>\n",
       "    <tr>\n",
       "      <th>99</th>\n",
       "      <td>37.4</td>\n",
       "      <td>0.0</td>\n",
       "    </tr>\n",
       "  </tbody>\n",
       "</table>\n",
       "<p>100 rows × 2 columns</p>\n",
       "</div>"
      ],
      "text/plain": [
       "    seconds  count\n",
       "0     116.0    0.0\n",
       "1     112.0    0.0\n",
       "2     160.0    0.0\n",
       "3      51.5    0.0\n",
       "4     102.0    1.0\n",
       "..      ...    ...\n",
       "95     38.7    1.0\n",
       "96     41.8    0.0\n",
       "97     81.7    0.0\n",
       "98     88.3    0.0\n",
       "99     37.4    0.0\n",
       "\n",
       "[100 rows x 2 columns]"
      ]
     },
     "metadata": {},
     "output_type": "display_data"
    }
   ],
   "source": [
    "df_gamma = pd.read_csv('gamma-ray.csv')\n",
    "\n",
    "display(df_gamma)"
   ]
  },
  {
   "cell_type": "code",
   "execution_count": 6,
   "id": "5b48b4a1",
   "metadata": {},
   "outputs": [
    {
     "name": "stdout",
     "output_type": "stream",
     "text": [
      "MLE for lambda: 0.00388\n"
     ]
    }
   ],
   "source": [
    "# Model: G ~ Poisson(lambda * t)\n",
    "# H0 = lamba1 = lambda2 = ... = lambda99\n",
    "# HA = lambai not equal to lambdaj for some i and j\n",
    "\n",
    "# What is(are) the most plausible parameter value(s) for the null model given the observations? Derive the MLE(s), i.e., maximum likelihood estimators. Calculate the value of the estimator(s) from the data.\n",
    "\n",
    "total_counts = df_gamma['count'].sum()\n",
    "total_time = df_gamma['seconds'].sum()\n",
    "lambda_mle = total_counts / total_time\n",
    "\n",
    "print(f\"MLE for lambda: {lambda_mle:.3g}\")"
   ]
  },
  {
   "cell_type": "code",
   "execution_count": null,
   "id": "454f169b",
   "metadata": {},
   "outputs": [
    {
     "name": "stdout",
     "output_type": "stream",
     "text": [
      "Critical value at 0.05: 123\n"
     ]
    }
   ],
   "source": [
    "# Determine the rejection region at a significance level of 0.05. \n",
    "from scipy.stats import chi2\n",
    "\n",
    "df = 99\n",
    "alpha = 0.05\n",
    "\n",
    "critical_value = chi2.ppf(1 - alpha, df)\n",
    "print(f\"Critical value at 0.05: {critical_value:.3g}\")"
   ]
  },
  {
   "cell_type": "code",
   "execution_count": null,
   "id": "25437325",
   "metadata": {},
   "outputs": [],
   "source": [
    "# Given the observed data, the value of the test statistic is: \n",
    "\n",
    "# Data already loaded as df with columns \"counts\" and \"time\"\n",
    "counts = df_gamma[\"count\"].to_numpy()\n",
    "times = df_gamma[\"seconds\"].to_numpy()\n",
    "\n",
    "# Null MLE (common lambda)\n",
    "lambda_hat = counts.sum() / times.sum()\n",
    "\n",
    "# Alternative MLEs (interval-specific lambdas)\n",
    "lambda_hats_alt = counts / times\n",
    "lambda_hats_alt = np.where(times > 0, lambda_hats_alt, 0)\n",
    "\n",
    "# Deviance (likelihood ratio statistic)\n",
    "# Formula: 2 * sum[ G_i * log(G_i/(lambda_hat*t_i)) + lambda_hat*t_i - G_i ]\n",
    "# Convention: 0 * log(0/μ) = 0 when G_i=0\n",
    "mu_null = lambda_hat * times\n",
    "terms = np.zeros_like(counts, dtype=float)\n",
    "\n",
    "for i, (g, mu) in enumerate(zip(counts, mu_null)):\n",
    "    if g == 0:\n",
    "        terms[i] = mu  # since g*log(g/mu)=0, then term = mu - 0\n",
    "    else:\n",
    "        terms[i] = g * np.log(g / mu) + mu - g\n",
    "\n",
    "test_statistic = 2 * terms.sum()\n",
    "\n",
    "# Critical value at alpha=0.05, df=98\n",
    "df_chi = len(counts) - 1\n",
    "alpha = 0.05\n",
    "critical_value = chi2.ppf(1 - alpha, df_chi)\n",
    "\n",
    "# p-value\n",
    "p_value = 1 - chi2.cdf(test_statistic, df_chi)\n",
    "\n",
    "(test_statistic, critical_value, p_value)"
   ]
  },
  {
   "cell_type": "markdown",
   "id": "067a5cb7",
   "metadata": {},
   "source": [
    "## Problem 1.4 - Gene Expression\n",
    "\n"
   ]
  },
  {
   "cell_type": "code",
   "execution_count": null,
   "id": "d99aed86",
   "metadata": {},
   "outputs": [],
   "source": [
    "# The data set golub consists of the expression levels of 3051 genes for 38 tumor mRNA samples. Each tumor mRNA sample comes from one patient (i.e. 38 patients total), and 27 of these tumor samples correspond to acute lymphoblastic leukemia (ALL) and the remaining 11 to acute myeloid leukemia (AML).\n",
    "\n",
    "# You will need to discover how many genes can be used to differentiate the tumor types (meaning that their expression level differs between the two tumor types) using the uncorrected p-values, the Holm-Bonferroni correction, and (iii) the Benjamini-Hochberg correction?"
   ]
  },
  {
   "cell_type": "code",
   "execution_count": 14,
   "id": "3b86881e",
   "metadata": {},
   "outputs": [],
   "source": [
    "import zipfile\n",
    "\n",
    "with zipfile.ZipFile(\"release_statsreview_release1.zip\") as zip_file:\n",
    "    golub_data, golub_classnames = ( np.genfromtxt(zip_file.open('data_and_materials/golub_data/{}'.format(fname)), delimiter=',', names=True, converters={0: lambda s: int(s.strip(b'\"'))}) for fname in ['golub.csv', 'golub_cl.csv'] )"
   ]
  }
 ],
 "metadata": {
  "kernelspec": {
   "display_name": "base",
   "language": "python",
   "name": "python3"
  },
  "language_info": {
   "codemirror_mode": {
    "name": "ipython",
    "version": 3
   },
   "file_extension": ".py",
   "mimetype": "text/x-python",
   "name": "python",
   "nbconvert_exporter": "python",
   "pygments_lexer": "ipython3",
   "version": "3.12.9"
  }
 },
 "nbformat": 4,
 "nbformat_minor": 5
}
